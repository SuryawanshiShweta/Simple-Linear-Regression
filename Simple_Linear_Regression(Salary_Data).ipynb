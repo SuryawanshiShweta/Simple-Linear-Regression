{
 "cells": [
  {
   "cell_type": "code",
   "execution_count": 1,
   "id": "a942fafe",
   "metadata": {},
   "outputs": [],
   "source": [
    "# importing different different libraries\n",
    "import pandas as pd\n",
    "import numpy as np\n",
    "import matplotlib.pyplot as plt\n",
    "from sklearn.linear_model import LinearRegression\n",
    "from sklearn.model_selection import train_test_split"
   ]
  },
  {
   "cell_type": "code",
   "execution_count": 2,
   "id": "b7cd2163",
   "metadata": {},
   "outputs": [],
   "source": [
    "df = pd.read_csv(\"Salary_Data.csv\") # Import .csv file and convert it to a DataFrame object"
   ]
  },
  {
   "cell_type": "code",
   "execution_count": 3,
   "id": "4700cd7c",
   "metadata": {},
   "outputs": [
    {
     "data": {
      "text/html": [
       "<div>\n",
       "<style scoped>\n",
       "    .dataframe tbody tr th:only-of-type {\n",
       "        vertical-align: middle;\n",
       "    }\n",
       "\n",
       "    .dataframe tbody tr th {\n",
       "        vertical-align: top;\n",
       "    }\n",
       "\n",
       "    .dataframe thead th {\n",
       "        text-align: right;\n",
       "    }\n",
       "</style>\n",
       "<table border=\"1\" class=\"dataframe\">\n",
       "  <thead>\n",
       "    <tr style=\"text-align: right;\">\n",
       "      <th></th>\n",
       "      <th>YearsExperience</th>\n",
       "      <th>Salary</th>\n",
       "    </tr>\n",
       "  </thead>\n",
       "  <tbody>\n",
       "    <tr>\n",
       "      <th>0</th>\n",
       "      <td>1.1</td>\n",
       "      <td>39343.0</td>\n",
       "    </tr>\n",
       "    <tr>\n",
       "      <th>1</th>\n",
       "      <td>1.3</td>\n",
       "      <td>46205.0</td>\n",
       "    </tr>\n",
       "    <tr>\n",
       "      <th>2</th>\n",
       "      <td>1.5</td>\n",
       "      <td>37731.0</td>\n",
       "    </tr>\n",
       "    <tr>\n",
       "      <th>3</th>\n",
       "      <td>2.0</td>\n",
       "      <td>43525.0</td>\n",
       "    </tr>\n",
       "    <tr>\n",
       "      <th>4</th>\n",
       "      <td>2.2</td>\n",
       "      <td>39891.0</td>\n",
       "    </tr>\n",
       "  </tbody>\n",
       "</table>\n",
       "</div>"
      ],
      "text/plain": [
       "   YearsExperience   Salary\n",
       "0              1.1  39343.0\n",
       "1              1.3  46205.0\n",
       "2              1.5  37731.0\n",
       "3              2.0  43525.0\n",
       "4              2.2  39891.0"
      ]
     },
     "execution_count": 3,
     "metadata": {},
     "output_type": "execute_result"
    }
   ],
   "source": [
    "df.head() # use .head to see first 5 element of DataFrame"
   ]
  },
  {
   "cell_type": "code",
   "execution_count": 4,
   "id": "f3b9e3cf",
   "metadata": {},
   "outputs": [
    {
     "data": {
      "text/plain": [
       "(30, 2)"
      ]
     },
     "execution_count": 4,
     "metadata": {},
     "output_type": "execute_result"
    }
   ],
   "source": [
    "df.shape # using .shape for knowing the rows n colloumns "
   ]
  },
  {
   "cell_type": "code",
   "execution_count": 5,
   "id": "ea3701cf",
   "metadata": {},
   "outputs": [
    {
     "data": {
      "text/html": [
       "<div>\n",
       "<style scoped>\n",
       "    .dataframe tbody tr th:only-of-type {\n",
       "        vertical-align: middle;\n",
       "    }\n",
       "\n",
       "    .dataframe tbody tr th {\n",
       "        vertical-align: top;\n",
       "    }\n",
       "\n",
       "    .dataframe thead th {\n",
       "        text-align: right;\n",
       "    }\n",
       "</style>\n",
       "<table border=\"1\" class=\"dataframe\">\n",
       "  <thead>\n",
       "    <tr style=\"text-align: right;\">\n",
       "      <th></th>\n",
       "      <th>YearsExperience</th>\n",
       "      <th>Salary</th>\n",
       "    </tr>\n",
       "  </thead>\n",
       "  <tbody>\n",
       "    <tr>\n",
       "      <th>count</th>\n",
       "      <td>30.000000</td>\n",
       "      <td>30.000000</td>\n",
       "    </tr>\n",
       "    <tr>\n",
       "      <th>mean</th>\n",
       "      <td>5.313333</td>\n",
       "      <td>76003.000000</td>\n",
       "    </tr>\n",
       "    <tr>\n",
       "      <th>std</th>\n",
       "      <td>2.837888</td>\n",
       "      <td>27414.429785</td>\n",
       "    </tr>\n",
       "    <tr>\n",
       "      <th>min</th>\n",
       "      <td>1.100000</td>\n",
       "      <td>37731.000000</td>\n",
       "    </tr>\n",
       "    <tr>\n",
       "      <th>25%</th>\n",
       "      <td>3.200000</td>\n",
       "      <td>56720.750000</td>\n",
       "    </tr>\n",
       "    <tr>\n",
       "      <th>50%</th>\n",
       "      <td>4.700000</td>\n",
       "      <td>65237.000000</td>\n",
       "    </tr>\n",
       "    <tr>\n",
       "      <th>75%</th>\n",
       "      <td>7.700000</td>\n",
       "      <td>100544.750000</td>\n",
       "    </tr>\n",
       "    <tr>\n",
       "      <th>max</th>\n",
       "      <td>10.500000</td>\n",
       "      <td>122391.000000</td>\n",
       "    </tr>\n",
       "  </tbody>\n",
       "</table>\n",
       "</div>"
      ],
      "text/plain": [
       "       YearsExperience         Salary\n",
       "count        30.000000      30.000000\n",
       "mean          5.313333   76003.000000\n",
       "std           2.837888   27414.429785\n",
       "min           1.100000   37731.000000\n",
       "25%           3.200000   56720.750000\n",
       "50%           4.700000   65237.000000\n",
       "75%           7.700000  100544.750000\n",
       "max          10.500000  122391.000000"
      ]
     },
     "execution_count": 5,
     "metadata": {},
     "output_type": "execute_result"
    }
   ],
   "source": [
    "df.describe() # .describe use to calculate the some statistical data "
   ]
  },
  {
   "cell_type": "code",
   "execution_count": 6,
   "id": "180f46c7",
   "metadata": {},
   "outputs": [
    {
     "name": "stdout",
     "output_type": "stream",
     "text": [
      "<class 'pandas.core.frame.DataFrame'>\n",
      "RangeIndex: 30 entries, 0 to 29\n",
      "Data columns (total 2 columns):\n",
      " #   Column           Non-Null Count  Dtype  \n",
      "---  ------           --------------  -----  \n",
      " 0   YearsExperience  30 non-null     float64\n",
      " 1   Salary           30 non-null     float64\n",
      "dtypes: float64(2)\n",
      "memory usage: 608.0 bytes\n"
     ]
    }
   ],
   "source": [
    "df.info() # .info() shows the columns names how any rows are non-null and their data type"
   ]
  },
  {
   "cell_type": "code",
   "execution_count": 7,
   "id": "809d7eed",
   "metadata": {},
   "outputs": [
    {
     "data": {
      "text/plain": [
       "{'whiskers': [<matplotlib.lines.Line2D at 0x2f6e02ac160>,\n",
       "  <matplotlib.lines.Line2D at 0x2f6e02ac430>],\n",
       " 'caps': [<matplotlib.lines.Line2D at 0x2f6e02ac700>,\n",
       "  <matplotlib.lines.Line2D at 0x2f6e02ac9d0>],\n",
       " 'boxes': [<matplotlib.lines.Line2D at 0x2f6e0282cd0>],\n",
       " 'medians': [<matplotlib.lines.Line2D at 0x2f6e02acca0>],\n",
       " 'fliers': [<matplotlib.lines.Line2D at 0x2f6e02acf70>],\n",
       " 'means': []}"
      ]
     },
     "execution_count": 7,
     "metadata": {},
     "output_type": "execute_result"
    },
    {
     "data": {
      "image/png": "[encoded data removed]",
      "text/plain": [
       "<Figure size 640x480 with 1 Axes>"
      ]
     },
     "metadata": {},
     "output_type": "display_data"
    }
   ],
   "source": [
    "plt.boxplot(df.YearsExperience) # for detecting outlier use boxplot"
   ]
  },
  {
   "cell_type": "code",
   "execution_count": 8,
   "id": "462078dd",
   "metadata": {},
   "outputs": [
    {
     "data": {
      "text/plain": [
       "{'whiskers': [<matplotlib.lines.Line2D at 0x2f6e04d5c40>,\n",
       "  <matplotlib.lines.Line2D at 0x2f6e04d5f10>],\n",
       " 'caps': [<matplotlib.lines.Line2D at 0x2f6e02e4220>,\n",
       "  <matplotlib.lines.Line2D at 0x2f6e02e44f0>],\n",
       " 'boxes': [<matplotlib.lines.Line2D at 0x2f6e04d5970>],\n",
       " 'medians': [<matplotlib.lines.Line2D at 0x2f6e02e47f0>],\n",
       " 'fliers': [<matplotlib.lines.Line2D at 0x2f6e02e4ac0>],\n",
       " 'means': []}"
      ]
     },
     "execution_count": 8,
     "metadata": {},
     "output_type": "execute_result"
    },
    {
     "data": {
      "image/png": "[encoded data removed]",
      "text/plain": [
       "<Figure size 640x480 with 1 Axes>"
      ]
     },
     "metadata": {},
     "output_type": "display_data"
    }
   ],
   "source": [
    "plt.boxplot(df.Salary)"
   ]
  },
  {
   "cell_type": "code",
   "execution_count": 9,
   "id": "34f83d9d",
   "metadata": {},
   "outputs": [],
   "source": [
    "x = df.YearsExperience #assigning input (x) "
   ]
  },
  {
   "cell_type": "code",
   "execution_count": 10,
   "id": "99ddbb58",
   "metadata": {},
   "outputs": [
    {
     "data": {
      "text/plain": [
       "(30,)"
      ]
     },
     "execution_count": 10,
     "metadata": {},
     "output_type": "execute_result"
    }
   ],
   "source": [
    "x.shape"
   ]
  },
  {
   "cell_type": "code",
   "execution_count": 11,
   "id": "d5d6b025",
   "metadata": {},
   "outputs": [],
   "source": [
    "y = df.Salary # assign output (y)"
   ]
  },
  {
   "cell_type": "code",
   "execution_count": 12,
   "id": "ceef274a",
   "metadata": {},
   "outputs": [
    {
     "data": {
      "text/plain": [
       "(30,)"
      ]
     },
     "execution_count": 12,
     "metadata": {},
     "output_type": "execute_result"
    }
   ],
   "source": [
    "y.shape"
   ]
  },
  {
   "cell_type": "code",
   "execution_count": 13,
   "id": "ee801fb9",
   "metadata": {},
   "outputs": [],
   "source": [
    "x = df[[\"YearsExperience\"]] # for doing two dimentional "
   ]
  },
  {
   "cell_type": "code",
   "execution_count": 14,
   "id": "6adb1fff",
   "metadata": {},
   "outputs": [
    {
     "data": {
      "text/plain": [
       "(30, 1)"
      ]
     },
     "execution_count": 14,
     "metadata": {},
     "output_type": "execute_result"
    }
   ],
   "source": [
    "x.shape"
   ]
  },
  {
   "cell_type": "code",
   "execution_count": 15,
   "id": "1fe5ca16",
   "metadata": {},
   "outputs": [],
   "source": [
    "# Spliting data into train and test data \n",
    "x_train, x_test, y_train, y_test = train_test_split(x,y,random_state=3,test_size=0.30)"
   ]
  },
  {
   "cell_type": "code",
   "execution_count": 16,
   "id": "f5809943",
   "metadata": {},
   "outputs": [],
   "source": [
    "# Model Building\n",
    "model = LinearRegression()"
   ]
  },
  {
   "cell_type": "code",
   "execution_count": 17,
   "id": "5188f174",
   "metadata": {},
   "outputs": [
    {
     "data": {
      "text/plain": [
       "LinearRegression()"
      ]
     },
     "execution_count": 17,
     "metadata": {},
     "output_type": "execute_result"
    }
   ],
   "source": [
    "# here we use .fit for traing \n",
    "model.fit(x_train,y_train)"
   ]
  },
  {
   "cell_type": "code",
   "execution_count": 18,
   "id": "ad9bab79",
   "metadata": {},
   "outputs": [
    {
     "data": {
      "text/plain": [
       "array([ 73289.5314978 ,  54692.70041028, 101184.77812906, 116062.24299907,\n",
       "        82587.94704155,  69570.16528029,  65850.79906279,  41674.91864903,\n",
       "        75149.21460655])"
      ]
     },
     "execution_count": 18,
     "metadata": {},
     "output_type": "execute_result"
    }
   ],
   "source": [
    "# here we use .predict for testing\n",
    "model.predict(x_test)"
   ]
  },
  {
   "cell_type": "code",
   "execution_count": 19,
   "id": "b355047c",
   "metadata": {},
   "outputs": [
    {
     "data": {
      "text/plain": [
       "0.9409061394841302"
      ]
     },
     "execution_count": 19,
     "metadata": {},
     "output_type": "execute_result"
    }
   ],
   "source": [
    "model.score(x_test,y_test) #Best Score "
   ]
  },
  {
   "cell_type": "code",
   "execution_count": 20,
   "id": "31d51f3e",
   "metadata": {},
   "outputs": [
    {
     "data": {
      "text/plain": [
       "array([9298.41554376])"
      ]
     },
     "execution_count": 20,
     "metadata": {},
     "output_type": "execute_result"
    }
   ],
   "source": [
    "model.coef_"
   ]
  },
  {
   "cell_type": "code",
   "execution_count": 21,
   "id": "811f2b12",
   "metadata": {},
   "outputs": [
    {
     "data": {
      "text/plain": [
       "27727.295333394715"
      ]
     },
     "execution_count": 21,
     "metadata": {},
     "output_type": "execute_result"
    }
   ],
   "source": [
    "model.intercept_"
   ]
  },
  {
   "cell_type": "markdown",
   "id": "cf080071",
   "metadata": {},
   "source": [
    "Standard Scaler"
   ]
  },
  {
   "cell_type": "code",
   "execution_count": 22,
   "id": "f57af96e",
   "metadata": {},
   "outputs": [],
   "source": [
    "# Standarisation - we use the Standarisation from sklearn library\n",
    "from sklearn.preprocessing import StandardScaler"
   ]
  },
  {
   "cell_type": "code",
   "execution_count": 23,
   "id": "f703a7ba",
   "metadata": {},
   "outputs": [],
   "source": [
    "scaler = StandardScaler()\n",
    "# fit vs fit_transform\n",
    "x_train_scaled = scaler.fit_transform(x_train)"
   ]
  },
  {
   "cell_type": "code",
   "execution_count": 24,
   "id": "2dea6e06",
   "metadata": {},
   "outputs": [
    {
     "data": {
      "text/plain": [
       "array([[-1.37223278],\n",
       "       [-0.0287881 ],\n",
       "       [ 1.41541493],\n",
       "       [-0.73409656],\n",
       "       [-0.46540762],\n",
       "       [-1.06995773],\n",
       "       [ 0.94520929],\n",
       "       [-0.80126879],\n",
       "       [ 0.47500366],\n",
       "       [-0.56616597],\n",
       "       [-0.46540762],\n",
       "       [ 1.71768998],\n",
       "       [ 0.20631472],\n",
       "       [ 0.57576201],\n",
       "       [-1.43940502],\n",
       "       [-0.73409656],\n",
       "       [ 1.65051775],\n",
       "       [-1.13712996],\n",
       "       [ 1.21389823],\n",
       "       [ 1.11313988],\n",
       "       [-0.49899374]])"
      ]
     },
     "execution_count": 24,
     "metadata": {},
     "output_type": "execute_result"
    }
   ],
   "source": [
    "x_train_scaled"
   ]
  },
  {
   "cell_type": "code",
   "execution_count": 25,
   "id": "8f13a9f5",
   "metadata": {},
   "outputs": [],
   "source": [
    "x_test_scaled = scaler.transform(x_test)"
   ]
  },
  {
   "cell_type": "code",
   "execution_count": 26,
   "id": "8da5392d",
   "metadata": {},
   "outputs": [
    {
     "data": {
      "text/plain": [
       "array([[-0.16313257],\n",
       "       [-0.83485491],\n",
       "       [ 0.84445094],\n",
       "       [ 1.38182881],\n",
       "       [ 0.1727286 ],\n",
       "       [-0.29747704],\n",
       "       [-0.4318215 ],\n",
       "       [-1.30506055],\n",
       "       [-0.09596033]])"
      ]
     },
     "execution_count": 26,
     "metadata": {},
     "output_type": "execute_result"
    }
   ],
   "source": [
    "x_test_scaled"
   ]
  },
  {
   "cell_type": "code",
   "execution_count": 27,
   "id": "5a767a2e",
   "metadata": {},
   "outputs": [],
   "source": [
    "# Model building\n",
    "model = LinearRegression()"
   ]
  },
  {
   "cell_type": "code",
   "execution_count": 28,
   "id": "190e49fc",
   "metadata": {},
   "outputs": [
    {
     "data": {
      "text/plain": [
       "LinearRegression()"
      ]
     },
     "execution_count": 28,
     "metadata": {},
     "output_type": "execute_result"
    }
   ],
   "source": [
    "# here we use .fit for traing \n",
    "model.fit(x_train_scaled,y_train)"
   ]
  },
  {
   "cell_type": "code",
   "execution_count": 29,
   "id": "224406b1",
   "metadata": {},
   "outputs": [
    {
     "data": {
      "text/plain": [
       "array([ 73289.5314978 ,  54692.70041028, 101184.77812906, 116062.24299907,\n",
       "        82587.94704155,  69570.16528029,  65850.79906279,  41674.91864903,\n",
       "        75149.21460655])"
      ]
     },
     "execution_count": 29,
     "metadata": {},
     "output_type": "execute_result"
    }
   ],
   "source": [
    "# here we use .predict for testing\n",
    "model.predict(x_test_scaled)"
   ]
  },
  {
   "cell_type": "code",
   "execution_count": 30,
   "id": "418080c4",
   "metadata": {},
   "outputs": [
    {
     "data": {
      "text/plain": [
       "0.9409061394841302"
      ]
     },
     "execution_count": 30,
     "metadata": {},
     "output_type": "execute_result"
    }
   ],
   "source": [
    "model.score(x_test_scaled,y_test)"
   ]
  },
  {
   "cell_type": "markdown",
   "id": "00ece441",
   "metadata": {},
   "source": [
    "Min Max Scaler"
   ]
  },
  {
   "cell_type": "code",
   "execution_count": 31,
   "id": "933658fc",
   "metadata": {},
   "outputs": [],
   "source": [
    "#Spliting data into train and test data \n",
    "x_train, x_test, y_train, y_test = train_test_split(x,y,random_state=3,test_size=0.30)"
   ]
  },
  {
   "cell_type": "code",
   "execution_count": 32,
   "id": "709c5375",
   "metadata": {},
   "outputs": [
    {
     "data": {
      "text/html": [
       "<div>\n",
       "<style scoped>\n",
       "    .dataframe tbody tr th:only-of-type {\n",
       "        vertical-align: middle;\n",
       "    }\n",
       "\n",
       "    .dataframe tbody tr th {\n",
       "        vertical-align: top;\n",
       "    }\n",
       "\n",
       "    .dataframe thead th {\n",
       "        text-align: right;\n",
       "    }\n",
       "</style>\n",
       "<table border=\"1\" class=\"dataframe\">\n",
       "  <thead>\n",
       "    <tr style=\"text-align: right;\">\n",
       "      <th></th>\n",
       "      <th>0</th>\n",
       "    </tr>\n",
       "  </thead>\n",
       "  <tbody>\n",
       "    <tr>\n",
       "      <th>0</th>\n",
       "      <td>0.021277</td>\n",
       "    </tr>\n",
       "    <tr>\n",
       "      <th>1</th>\n",
       "      <td>0.446809</td>\n",
       "    </tr>\n",
       "    <tr>\n",
       "      <th>2</th>\n",
       "      <td>0.904255</td>\n",
       "    </tr>\n",
       "    <tr>\n",
       "      <th>3</th>\n",
       "      <td>0.223404</td>\n",
       "    </tr>\n",
       "    <tr>\n",
       "      <th>4</th>\n",
       "      <td>0.308511</td>\n",
       "    </tr>\n",
       "  </tbody>\n",
       "</table>\n",
       "</div>"
      ],
      "text/plain": [
       "          0\n",
       "0  0.021277\n",
       "1  0.446809\n",
       "2  0.904255\n",
       "3  0.223404\n",
       "4  0.308511"
      ]
     },
     "execution_count": 32,
     "metadata": {},
     "output_type": "execute_result"
    }
   ],
   "source": [
    "#Min max scaler \n",
    "from sklearn.preprocessing import MinMaxScaler\n",
    "min_max = MinMaxScaler()\n",
    "x_train_minmax = pd.DataFrame(min_max.fit_transform(x_train))\n",
    "x_train_minmax.head()"
   ]
  },
  {
   "cell_type": "code",
   "execution_count": 33,
   "id": "e8d488a5",
   "metadata": {},
   "outputs": [
    {
     "data": {
      "text/plain": [
       "(21, 1)"
      ]
     },
     "execution_count": 33,
     "metadata": {},
     "output_type": "execute_result"
    }
   ],
   "source": [
    "x_train_minmax.shape"
   ]
  },
  {
   "cell_type": "code",
   "execution_count": 34,
   "id": "7c79dfa6",
   "metadata": {},
   "outputs": [],
   "source": [
    "x_test_minmax = pd.DataFrame(min_max.transform(x_test))"
   ]
  },
  {
   "cell_type": "code",
   "execution_count": 35,
   "id": "3130227a",
   "metadata": {},
   "outputs": [
    {
     "data": {
      "text/html": [
       "<div>\n",
       "<style scoped>\n",
       "    .dataframe tbody tr th:only-of-type {\n",
       "        vertical-align: middle;\n",
       "    }\n",
       "\n",
       "    .dataframe tbody tr th {\n",
       "        vertical-align: top;\n",
       "    }\n",
       "\n",
       "    .dataframe thead th {\n",
       "        text-align: right;\n",
       "    }\n",
       "</style>\n",
       "<table border=\"1\" class=\"dataframe\">\n",
       "  <thead>\n",
       "    <tr style=\"text-align: right;\">\n",
       "      <th></th>\n",
       "      <th>0</th>\n",
       "    </tr>\n",
       "  </thead>\n",
       "  <tbody>\n",
       "    <tr>\n",
       "      <th>0</th>\n",
       "      <td>0.404255</td>\n",
       "    </tr>\n",
       "    <tr>\n",
       "      <th>1</th>\n",
       "      <td>0.191489</td>\n",
       "    </tr>\n",
       "    <tr>\n",
       "      <th>2</th>\n",
       "      <td>0.723404</td>\n",
       "    </tr>\n",
       "    <tr>\n",
       "      <th>3</th>\n",
       "      <td>0.893617</td>\n",
       "    </tr>\n",
       "    <tr>\n",
       "      <th>4</th>\n",
       "      <td>0.510638</td>\n",
       "    </tr>\n",
       "  </tbody>\n",
       "</table>\n",
       "</div>"
      ],
      "text/plain": [
       "          0\n",
       "0  0.404255\n",
       "1  0.191489\n",
       "2  0.723404\n",
       "3  0.893617\n",
       "4  0.510638"
      ]
     },
     "execution_count": 35,
     "metadata": {},
     "output_type": "execute_result"
    }
   ],
   "source": [
    "x_test_minmax.head()"
   ]
  },
  {
   "cell_type": "code",
   "execution_count": 36,
   "id": "e58fb5ea",
   "metadata": {},
   "outputs": [
    {
     "data": {
      "text/plain": [
       "(9, 1)"
      ]
     },
     "execution_count": 36,
     "metadata": {},
     "output_type": "execute_result"
    }
   ],
   "source": [
    "x_test_minmax.shape"
   ]
  },
  {
   "cell_type": "code",
   "execution_count": 37,
   "id": "e52ba884",
   "metadata": {},
   "outputs": [],
   "source": [
    "model = LinearRegression()"
   ]
  },
  {
   "cell_type": "code",
   "execution_count": 38,
   "id": "e59fee85",
   "metadata": {},
   "outputs": [
    {
     "data": {
      "text/plain": [
       "LinearRegression()"
      ]
     },
     "execution_count": 38,
     "metadata": {},
     "output_type": "execute_result"
    }
   ],
   "source": [
    "model.fit(x_train_minmax,y_train)"
   ]
  },
  {
   "cell_type": "code",
   "execution_count": 39,
   "id": "e6427165",
   "metadata": {},
   "outputs": [
    {
     "data": {
      "text/plain": [
       "0.9409061394841302"
      ]
     },
     "execution_count": 39,
     "metadata": {},
     "output_type": "execute_result"
    }
   ],
   "source": [
    "model.score(x_test_minmax,y_test)"
   ]
  },
  {
   "cell_type": "markdown",
   "id": "8df4d43d",
   "metadata": {},
   "source": [
    "Robust Scaler"
   ]
  },
  {
   "cell_type": "code",
   "execution_count": 40,
   "id": "140d8b45",
   "metadata": {},
   "outputs": [],
   "source": [
    "#Spliting data into train and test data \n",
    "x_train, x_test, y_train, y_test = train_test_split(x,y,random_state=3,test_size=0.30)"
   ]
  },
  {
   "cell_type": "code",
   "execution_count": 41,
   "id": "c63a5f46",
   "metadata": {},
   "outputs": [
    {
     "data": {
      "text/html": [
       "<div>\n",
       "<style scoped>\n",
       "    .dataframe tbody tr th:only-of-type {\n",
       "        vertical-align: middle;\n",
       "    }\n",
       "\n",
       "    .dataframe tbody tr th {\n",
       "        vertical-align: top;\n",
       "    }\n",
       "\n",
       "    .dataframe thead th {\n",
       "        text-align: right;\n",
       "    }\n",
       "</style>\n",
       "<table border=\"1\" class=\"dataframe\">\n",
       "  <thead>\n",
       "    <tr style=\"text-align: right;\">\n",
       "      <th></th>\n",
       "      <th>0</th>\n",
       "    </tr>\n",
       "  </thead>\n",
       "  <tbody>\n",
       "    <tr>\n",
       "      <th>0</th>\n",
       "      <td>-0.54</td>\n",
       "    </tr>\n",
       "    <tr>\n",
       "      <th>1</th>\n",
       "      <td>0.26</td>\n",
       "    </tr>\n",
       "    <tr>\n",
       "      <th>2</th>\n",
       "      <td>1.12</td>\n",
       "    </tr>\n",
       "    <tr>\n",
       "      <th>3</th>\n",
       "      <td>-0.16</td>\n",
       "    </tr>\n",
       "    <tr>\n",
       "      <th>4</th>\n",
       "      <td>0.00</td>\n",
       "    </tr>\n",
       "  </tbody>\n",
       "</table>\n",
       "</div>"
      ],
      "text/plain": [
       "      0\n",
       "0 -0.54\n",
       "1  0.26\n",
       "2  1.12\n",
       "3 -0.16\n",
       "4  0.00"
      ]
     },
     "execution_count": 41,
     "metadata": {},
     "output_type": "execute_result"
    }
   ],
   "source": [
    "from sklearn.preprocessing import RobustScaler\n",
    "scaler = RobustScaler()\n",
    "x_train_robust_scaler = pd.DataFrame(scaler.fit_transform(x_train))\n",
    "x_train_robust_scaler.head()"
   ]
  },
  {
   "cell_type": "code",
   "execution_count": 42,
   "id": "9ec323b6",
   "metadata": {},
   "outputs": [
    {
     "data": {
      "text/html": [
       "<div>\n",
       "<style scoped>\n",
       "    .dataframe tbody tr th:only-of-type {\n",
       "        vertical-align: middle;\n",
       "    }\n",
       "\n",
       "    .dataframe tbody tr th {\n",
       "        vertical-align: top;\n",
       "    }\n",
       "\n",
       "    .dataframe thead th {\n",
       "        text-align: right;\n",
       "    }\n",
       "</style>\n",
       "<table border=\"1\" class=\"dataframe\">\n",
       "  <thead>\n",
       "    <tr style=\"text-align: right;\">\n",
       "      <th></th>\n",
       "      <th>0</th>\n",
       "    </tr>\n",
       "  </thead>\n",
       "  <tbody>\n",
       "    <tr>\n",
       "      <th>0</th>\n",
       "      <td>0.18</td>\n",
       "    </tr>\n",
       "    <tr>\n",
       "      <th>1</th>\n",
       "      <td>-0.22</td>\n",
       "    </tr>\n",
       "    <tr>\n",
       "      <th>2</th>\n",
       "      <td>0.78</td>\n",
       "    </tr>\n",
       "    <tr>\n",
       "      <th>3</th>\n",
       "      <td>1.10</td>\n",
       "    </tr>\n",
       "    <tr>\n",
       "      <th>4</th>\n",
       "      <td>0.38</td>\n",
       "    </tr>\n",
       "  </tbody>\n",
       "</table>\n",
       "</div>"
      ],
      "text/plain": [
       "      0\n",
       "0  0.18\n",
       "1 -0.22\n",
       "2  0.78\n",
       "3  1.10\n",
       "4  0.38"
      ]
     },
     "execution_count": 42,
     "metadata": {},
     "output_type": "execute_result"
    }
   ],
   "source": [
    "x_test_robust_scaler = pd.DataFrame(scaler.transform(x_test))\n",
    "x_test_robust_scaler.head()"
   ]
  },
  {
   "cell_type": "code",
   "execution_count": 43,
   "id": "8167a6dd",
   "metadata": {},
   "outputs": [],
   "source": [
    "model = LinearRegression()"
   ]
  },
  {
   "cell_type": "code",
   "execution_count": 44,
   "id": "15b38a70",
   "metadata": {},
   "outputs": [
    {
     "data": {
      "text/plain": [
       "LinearRegression()"
      ]
     },
     "execution_count": 44,
     "metadata": {},
     "output_type": "execute_result"
    }
   ],
   "source": [
    "model.fit(x_train_robust_scaler,y_train)"
   ]
  },
  {
   "cell_type": "code",
   "execution_count": 45,
   "id": "4779d614",
   "metadata": {},
   "outputs": [
    {
     "data": {
      "text/plain": [
       "0.9409061394841302"
      ]
     },
     "execution_count": 45,
     "metadata": {},
     "output_type": "execute_result"
    }
   ],
   "source": [
    "model.score(x_test_robust_scaler,y_test)"
   ]
  },
  {
   "cell_type": "markdown",
   "id": "d92a9e40",
   "metadata": {},
   "source": [
    "Square root Transformation"
   ]
  },
  {
   "cell_type": "code",
   "execution_count": 46,
   "id": "1bf6ee98",
   "metadata": {},
   "outputs": [],
   "source": [
    "#Spliting data into train and test data \n",
    "x_train, x_test, y_train, y_test = train_test_split(x,y,random_state=3,test_size=0.30)"
   ]
  },
  {
   "cell_type": "code",
   "execution_count": 47,
   "id": "c315f32b",
   "metadata": {},
   "outputs": [],
   "source": [
    "x_train_sr = x_train**(1/2)\n",
    "x_test_sr = x_test**(1/2)"
   ]
  },
  {
   "cell_type": "code",
   "execution_count": 48,
   "id": "9a309b24",
   "metadata": {},
   "outputs": [],
   "source": [
    "model = LinearRegression()"
   ]
  },
  {
   "cell_type": "code",
   "execution_count": 49,
   "id": "762da9f7",
   "metadata": {},
   "outputs": [
    {
     "data": {
      "text/plain": [
       "LinearRegression()"
      ]
     },
     "execution_count": 49,
     "metadata": {},
     "output_type": "execute_result"
    }
   ],
   "source": [
    "model.fit(x_train_sr,y_train)"
   ]
  },
  {
   "cell_type": "code",
   "execution_count": 50,
   "id": "abb714e5",
   "metadata": {},
   "outputs": [
    {
     "data": {
      "text/plain": [
       "0.8700451605004437"
      ]
     },
     "execution_count": 50,
     "metadata": {},
     "output_type": "execute_result"
    }
   ],
   "source": [
    "model.score(x_test_sr,y_test) # Best Score with Square root transformation"
   ]
  },
  {
   "cell_type": "markdown",
   "id": "0258f653",
   "metadata": {},
   "source": [
    "Expoential Transformation"
   ]
  },
  {
   "cell_type": "code",
   "execution_count": 51,
   "id": "2d97eae7",
   "metadata": {},
   "outputs": [],
   "source": [
    "#Spliting data into train and test data \n",
    "x_train, x_test, y_train, y_test = train_test_split(x,y,random_state=3,test_size=0.30)"
   ]
  },
  {
   "cell_type": "code",
   "execution_count": 52,
   "id": "9d62ba61",
   "metadata": {},
   "outputs": [],
   "source": [
    "x_train_Exp =x_train**(1/1.2)\n",
    "x_test_Exp = x_test**(1/1.2)"
   ]
  },
  {
   "cell_type": "code",
   "execution_count": 53,
   "id": "9284417a",
   "metadata": {},
   "outputs": [],
   "source": [
    "model = LinearRegression()"
   ]
  },
  {
   "cell_type": "code",
   "execution_count": 54,
   "id": "6e879575",
   "metadata": {},
   "outputs": [
    {
     "data": {
      "text/plain": [
       "LinearRegression()"
      ]
     },
     "execution_count": 54,
     "metadata": {},
     "output_type": "execute_result"
    }
   ],
   "source": [
    "model.fit(x_train_Exp,y_train)"
   ]
  },
  {
   "cell_type": "code",
   "execution_count": 55,
   "id": "6e628a50",
   "metadata": {},
   "outputs": [
    {
     "data": {
      "text/plain": [
       "0.9238877899341357"
      ]
     },
     "execution_count": 55,
     "metadata": {},
     "output_type": "execute_result"
    }
   ],
   "source": [
    "model.score(x_test_Exp,y_test)"
   ]
  },
  {
   "cell_type": "markdown",
   "id": "f1177cb9",
   "metadata": {},
   "source": [
    "BoxCox Transformation"
   ]
  },
  {
   "cell_type": "code",
   "execution_count": 56,
   "id": "a90aa0b0",
   "metadata": {},
   "outputs": [],
   "source": [
    "import scipy.stats as stat"
   ]
  },
  {
   "cell_type": "code",
   "execution_count": 57,
   "id": "b47e05b0",
   "metadata": {},
   "outputs": [],
   "source": [
    "df['YearsExperience'],parameters=stat.boxcox(df['YearsExperience'])"
   ]
  },
  {
   "cell_type": "code",
   "execution_count": 58,
   "id": "e699a6ef",
   "metadata": {},
   "outputs": [],
   "source": [
    "x = df[['YearsExperience']]"
   ]
  },
  {
   "cell_type": "code",
   "execution_count": 59,
   "id": "22675393",
   "metadata": {},
   "outputs": [
    {
     "data": {
      "text/plain": [
       "(30, 1)"
      ]
     },
     "execution_count": 59,
     "metadata": {},
     "output_type": "execute_result"
    }
   ],
   "source": [
    "x.shape"
   ]
  },
  {
   "cell_type": "code",
   "execution_count": 60,
   "id": "2a86c968",
   "metadata": {},
   "outputs": [],
   "source": [
    "y = df.Salary"
   ]
  },
  {
   "cell_type": "code",
   "execution_count": 61,
   "id": "3689fd6b",
   "metadata": {},
   "outputs": [],
   "source": [
    "#Spliting data into train and test data \n",
    "x_train, x_test, y_train, y_test= train_test_split(x,y,random_state=3,test_size=0.30)"
   ]
  },
  {
   "cell_type": "code",
   "execution_count": 62,
   "id": "d787656c",
   "metadata": {},
   "outputs": [],
   "source": [
    "model = LinearRegression()"
   ]
  },
  {
   "cell_type": "code",
   "execution_count": 63,
   "id": "7ef22c30",
   "metadata": {},
   "outputs": [
    {
     "data": {
      "text/plain": [
       "LinearRegression()"
      ]
     },
     "execution_count": 63,
     "metadata": {},
     "output_type": "execute_result"
    }
   ],
   "source": [
    "model.fit(x_train,y_train)"
   ]
  },
  {
   "cell_type": "code",
   "execution_count": 64,
   "id": "08a2da31",
   "metadata": {},
   "outputs": [
    {
     "data": {
      "text/plain": [
       "0.8607746680726691"
      ]
     },
     "execution_count": 64,
     "metadata": {},
     "output_type": "execute_result"
    }
   ],
   "source": [
    "model.score(x_test,y_test)"
   ]
  }
 ],
 "metadata": {
  "kernelspec": {
   "display_name": "Python 3 (ipykernel)",
   "language": "python",
   "name": "python3"
  },
  "language_info": {
   "codemirror_mode": {
    "name": "ipython",
    "version": 3
   },
   "file_extension": ".py",
   "mimetype": "text/x-python",
   "name": "python",
   "nbconvert_exporter": "python",
   "pygments_lexer": "ipython3",
   "version": "3.9.13"
  }
 },
 "nbformat": 4,
 "nbformat_minor": 5
}
