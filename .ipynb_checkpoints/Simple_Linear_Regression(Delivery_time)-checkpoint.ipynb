{
 "cells": [
  {
   "cell_type": "code",
   "execution_count": 1,
   "id": "ce8dc55f",
   "metadata": {},
   "outputs": [],
   "source": [
    "# importing different different libraries\n",
    "import pandas as pd\n",
    "import numpy as np\n",
    "import matplotlib.pyplot as plt\n",
    "from sklearn.model_selection import train_test_split\n",
    "from sklearn.linear_model import LinearRegression"
   ]
  },
  {
   "cell_type": "code",
   "execution_count": 2,
   "id": "c3101195",
   "metadata": {},
   "outputs": [],
   "source": [
    "dt = pd.read_csv(\"delivery_time.csv\")  # Import .csv file and convert it to a DataFrame object"
   ]
  },
  {
   "cell_type": "code",
   "execution_count": 3,
   "id": "3581e4b7",
   "metadata": {},
   "outputs": [
    {
     "data": {
      "text/html": [
       "<div>\n",
       "<style scoped>\n",
       "    .dataframe tbody tr th:only-of-type {\n",
       "        vertical-align: middle;\n",
       "    }\n",
       "\n",
       "    .dataframe tbody tr th {\n",
       "        vertical-align: top;\n",
       "    }\n",
       "\n",
       "    .dataframe thead th {\n",
       "        text-align: right;\n",
       "    }\n",
       "</style>\n",
       "<table border=\"1\" class=\"dataframe\">\n",
       "  <thead>\n",
       "    <tr style=\"text-align: right;\">\n",
       "      <th></th>\n",
       "      <th>Delivery Time</th>\n",
       "      <th>Sorting Time</th>\n",
       "    </tr>\n",
       "  </thead>\n",
       "  <tbody>\n",
       "    <tr>\n",
       "      <th>0</th>\n",
       "      <td>21.00</td>\n",
       "      <td>10</td>\n",
       "    </tr>\n",
       "    <tr>\n",
       "      <th>1</th>\n",
       "      <td>13.50</td>\n",
       "      <td>4</td>\n",
       "    </tr>\n",
       "    <tr>\n",
       "      <th>2</th>\n",
       "      <td>19.75</td>\n",
       "      <td>6</td>\n",
       "    </tr>\n",
       "    <tr>\n",
       "      <th>3</th>\n",
       "      <td>24.00</td>\n",
       "      <td>9</td>\n",
       "    </tr>\n",
       "    <tr>\n",
       "      <th>4</th>\n",
       "      <td>29.00</td>\n",
       "      <td>10</td>\n",
       "    </tr>\n",
       "  </tbody>\n",
       "</table>\n",
       "</div>"
      ],
      "text/plain": [
       "   Delivery Time  Sorting Time\n",
       "0          21.00            10\n",
       "1          13.50             4\n",
       "2          19.75             6\n",
       "3          24.00             9\n",
       "4          29.00            10"
      ]
     },
     "execution_count": 3,
     "metadata": {},
     "output_type": "execute_result"
    }
   ],
   "source": [
    "dt.head()  # use .head to see first 5 element of DataFrame"
   ]
  },
  {
   "cell_type": "code",
   "execution_count": 4,
   "id": "41769742",
   "metadata": {},
   "outputs": [
    {
     "data": {
      "text/plain": [
       "(21, 2)"
      ]
     },
     "execution_count": 4,
     "metadata": {},
     "output_type": "execute_result"
    }
   ],
   "source": [
    "dt.shape # using .shape for knowing the rows n colloumns "
   ]
  },
  {
   "cell_type": "code",
   "execution_count": 5,
   "id": "79fd66ce",
   "metadata": {},
   "outputs": [
    {
     "name": "stdout",
     "output_type": "stream",
     "text": [
      "<class 'pandas.core.frame.DataFrame'>\n",
      "RangeIndex: 21 entries, 0 to 20\n",
      "Data columns (total 2 columns):\n",
      " #   Column         Non-Null Count  Dtype  \n",
      "---  ------         --------------  -----  \n",
      " 0   Delivery Time  21 non-null     float64\n",
      " 1   Sorting Time   21 non-null     int64  \n",
      "dtypes: float64(1), int64(1)\n",
      "memory usage: 464.0 bytes\n"
     ]
    }
   ],
   "source": [
    "dt.info() # .info() shows the columns names how any rows are non-null and their data type"
   ]
  },
  {
   "cell_type": "code",
   "execution_count": 6,
   "id": "de6a7e71",
   "metadata": {},
   "outputs": [
    {
     "data": {
      "text/html": [
       "<div>\n",
       "<style scoped>\n",
       "    .dataframe tbody tr th:only-of-type {\n",
       "        vertical-align: middle;\n",
       "    }\n",
       "\n",
       "    .dataframe tbody tr th {\n",
       "        vertical-align: top;\n",
       "    }\n",
       "\n",
       "    .dataframe thead th {\n",
       "        text-align: right;\n",
       "    }\n",
       "</style>\n",
       "<table border=\"1\" class=\"dataframe\">\n",
       "  <thead>\n",
       "    <tr style=\"text-align: right;\">\n",
       "      <th></th>\n",
       "      <th>Delivery Time</th>\n",
       "      <th>Sorting Time</th>\n",
       "    </tr>\n",
       "  </thead>\n",
       "  <tbody>\n",
       "    <tr>\n",
       "      <th>count</th>\n",
       "      <td>21.000000</td>\n",
       "      <td>21.000000</td>\n",
       "    </tr>\n",
       "    <tr>\n",
       "      <th>mean</th>\n",
       "      <td>16.790952</td>\n",
       "      <td>6.190476</td>\n",
       "    </tr>\n",
       "    <tr>\n",
       "      <th>std</th>\n",
       "      <td>5.074901</td>\n",
       "      <td>2.542028</td>\n",
       "    </tr>\n",
       "    <tr>\n",
       "      <th>min</th>\n",
       "      <td>8.000000</td>\n",
       "      <td>2.000000</td>\n",
       "    </tr>\n",
       "    <tr>\n",
       "      <th>25%</th>\n",
       "      <td>13.500000</td>\n",
       "      <td>4.000000</td>\n",
       "    </tr>\n",
       "    <tr>\n",
       "      <th>50%</th>\n",
       "      <td>17.830000</td>\n",
       "      <td>6.000000</td>\n",
       "    </tr>\n",
       "    <tr>\n",
       "      <th>75%</th>\n",
       "      <td>19.750000</td>\n",
       "      <td>8.000000</td>\n",
       "    </tr>\n",
       "    <tr>\n",
       "      <th>max</th>\n",
       "      <td>29.000000</td>\n",
       "      <td>10.000000</td>\n",
       "    </tr>\n",
       "  </tbody>\n",
       "</table>\n",
       "</div>"
      ],
      "text/plain": [
       "       Delivery Time  Sorting Time\n",
       "count      21.000000     21.000000\n",
       "mean       16.790952      6.190476\n",
       "std         5.074901      2.542028\n",
       "min         8.000000      2.000000\n",
       "25%        13.500000      4.000000\n",
       "50%        17.830000      6.000000\n",
       "75%        19.750000      8.000000\n",
       "max        29.000000     10.000000"
      ]
     },
     "execution_count": 6,
     "metadata": {},
     "output_type": "execute_result"
    }
   ],
   "source": [
    "dt.describe() # .describe use to calculate the some statistical data "
   ]
  },
  {
   "cell_type": "code",
   "execution_count": 7,
   "id": "8890a568",
   "metadata": {},
   "outputs": [
    {
     "data": {
      "text/plain": [
       "{'whiskers': [<matplotlib.lines.Line2D at 0x22d20f2a3a0>,\n",
       "  <matplotlib.lines.Line2D at 0x22d20f2a670>],\n",
       " 'caps': [<matplotlib.lines.Line2D at 0x22d20f2a940>,\n",
       "  <matplotlib.lines.Line2D at 0x22d20f2ac10>],\n",
       " 'boxes': [<matplotlib.lines.Line2D at 0x22d20f03f10>],\n",
       " 'medians': [<matplotlib.lines.Line2D at 0x22d20f2aee0>],\n",
       " 'fliers': [<matplotlib.lines.Line2D at 0x22d20f3c1f0>],\n",
       " 'means': []}"
      ]
     },
     "execution_count": 7,
     "metadata": {},
     "output_type": "execute_result"
    },
    {
     "data": {
      "image/png": "[encoded data removed]",
      "text/plain": [
       "<Figure size 640x480 with 1 Axes>"
      ]
     },
     "metadata": {},
     "output_type": "display_data"
    }
   ],
   "source": [
    "plt.boxplot(dt['Sorting Time']) # for detecting outlier use boxplot"
   ]
  },
  {
   "cell_type": "code",
   "execution_count": 8,
   "id": "3b1ac0f3",
   "metadata": {},
   "outputs": [
    {
     "data": {
      "text/plain": [
       "{'whiskers': [<matplotlib.lines.Line2D at 0x22d20f6e9a0>,\n",
       "  <matplotlib.lines.Line2D at 0x22d20f6ec70>],\n",
       " 'caps': [<matplotlib.lines.Line2D at 0x22d20f6ef40>,\n",
       "  <matplotlib.lines.Line2D at 0x22d20f7f250>],\n",
       " 'boxes': [<matplotlib.lines.Line2D at 0x22d20f6e6d0>],\n",
       " 'medians': [<matplotlib.lines.Line2D at 0x22d20f7f520>],\n",
       " 'fliers': [<matplotlib.lines.Line2D at 0x22d20f7f7f0>],\n",
       " 'means': []}"
      ]
     },
     "execution_count": 8,
     "metadata": {},
     "output_type": "execute_result"
    },
    {
     "data": {
      "image/png": "[encoded data removed]",
      "text/plain": [
       "<Figure size 640x480 with 1 Axes>"
      ]
     },
     "metadata": {},
     "output_type": "display_data"
    }
   ],
   "source": [
    "plt.boxplot(dt['Delivery Time'])"
   ]
  },
  {
   "cell_type": "code",
   "execution_count": 9,
   "id": "14d7597c",
   "metadata": {},
   "outputs": [],
   "source": [
    "x = dt['Sorting Time']  #assigning input (x) "
   ]
  },
  {
   "cell_type": "code",
   "execution_count": 10,
   "id": "1b71682b",
   "metadata": {},
   "outputs": [
    {
     "data": {
      "text/plain": [
       "(21,)"
      ]
     },
     "execution_count": 10,
     "metadata": {},
     "output_type": "execute_result"
    }
   ],
   "source": [
    "x.shape"
   ]
  },
  {
   "cell_type": "code",
   "execution_count": 11,
   "id": "39a01d1f",
   "metadata": {},
   "outputs": [],
   "source": [
    "x = dt[['Sorting Time']] # for doing two dimentional "
   ]
  },
  {
   "cell_type": "code",
   "execution_count": 12,
   "id": "3b137e62",
   "metadata": {},
   "outputs": [
    {
     "data": {
      "text/plain": [
       "(21, 1)"
      ]
     },
     "execution_count": 12,
     "metadata": {},
     "output_type": "execute_result"
    }
   ],
   "source": [
    "x.shape"
   ]
  },
  {
   "cell_type": "code",
   "execution_count": 13,
   "id": "b31d0c87",
   "metadata": {},
   "outputs": [],
   "source": [
    "y = dt['Delivery Time'] # assign output (y)"
   ]
  },
  {
   "cell_type": "code",
   "execution_count": 14,
   "id": "9f92be6e",
   "metadata": {},
   "outputs": [],
   "source": [
    "# Spliting data into train and test data \n",
    "x_train, x_test, y_train, y_test = train_test_split(x,y,random_state=3,test_size=0.30)"
   ]
  },
  {
   "cell_type": "code",
   "execution_count": 15,
   "id": "714bd071",
   "metadata": {},
   "outputs": [],
   "source": [
    "# Model Building\n",
    "model = LinearRegression()"
   ]
  },
  {
   "cell_type": "code",
   "execution_count": 16,
   "id": "691209f2",
   "metadata": {},
   "outputs": [
    {
     "data": {
      "text/plain": [
       "LinearRegression()"
      ]
     },
     "execution_count": 16,
     "metadata": {},
     "output_type": "execute_result"
    }
   ],
   "source": [
    "model.fit(x_train,y_train)"
   ]
  },
  {
   "cell_type": "code",
   "execution_count": 17,
   "id": "e7cac523",
   "metadata": {},
   "outputs": [
    {
     "data": {
      "text/plain": [
       "0.7921562197246621"
      ]
     },
     "execution_count": 17,
     "metadata": {},
     "output_type": "execute_result"
    }
   ],
   "source": [
    "model.score(x_test,y_test)"
   ]
  },
  {
   "cell_type": "markdown",
   "id": "44ffe3fb",
   "metadata": {},
   "source": [
    "Standard Scaler"
   ]
  },
  {
   "cell_type": "code",
   "execution_count": 18,
   "id": "f4700b97",
   "metadata": {},
   "outputs": [],
   "source": [
    "# Standarisation - we use the Standarisation from sklearn library\n",
    "from sklearn.preprocessing import StandardScaler"
   ]
  },
  {
   "cell_type": "code",
   "execution_count": 19,
   "id": "85f2f190",
   "metadata": {},
   "outputs": [],
   "source": [
    "scaler = StandardScaler()\n",
    "# fit vs fit_transform\n",
    "x_train_scaled = scaler.fit_transform(x_train)"
   ]
  },
  {
   "cell_type": "code",
   "execution_count": 20,
   "id": "abeab4ba",
   "metadata": {},
   "outputs": [
    {
     "data": {
      "text/plain": [
       "array([[ 1.26197963],\n",
       "       [ 0.02934836],\n",
       "       [ 0.02934836],\n",
       "       [-1.61415999],\n",
       "       [-0.38152873],\n",
       "       [-0.38152873],\n",
       "       [-1.61415999],\n",
       "       [ 0.85110254],\n",
       "       [-1.20328291],\n",
       "       [-0.79240582],\n",
       "       [ 1.26197963],\n",
       "       [ 1.26197963],\n",
       "       [ 0.85110254],\n",
       "       [ 0.44022545]])"
      ]
     },
     "execution_count": 20,
     "metadata": {},
     "output_type": "execute_result"
    }
   ],
   "source": [
    "x_train_scaled"
   ]
  },
  {
   "cell_type": "code",
   "execution_count": 21,
   "id": "44da1ffd",
   "metadata": {},
   "outputs": [],
   "source": [
    "x_test_scaled = scaler.transform(x_test)"
   ]
  },
  {
   "cell_type": "code",
   "execution_count": 22,
   "id": "a650439b",
   "metadata": {},
   "outputs": [
    {
     "data": {
      "text/plain": [
       "array([[ 0.02934836],\n",
       "       [-1.61415999],\n",
       "       [-1.20328291],\n",
       "       [-0.38152873],\n",
       "       [-2.02503708],\n",
       "       [-1.20328291],\n",
       "       [ 0.02934836]])"
      ]
     },
     "execution_count": 22,
     "metadata": {},
     "output_type": "execute_result"
    }
   ],
   "source": [
    "x_test_scaled"
   ]
  },
  {
   "cell_type": "code",
   "execution_count": 23,
   "id": "b7f7b274",
   "metadata": {},
   "outputs": [],
   "source": [
    "# Model building\n",
    "model = LinearRegression()"
   ]
  },
  {
   "cell_type": "code",
   "execution_count": 24,
   "id": "d8016835",
   "metadata": {},
   "outputs": [
    {
     "data": {
      "text/plain": [
       "LinearRegression()"
      ]
     },
     "execution_count": 24,
     "metadata": {},
     "output_type": "execute_result"
    }
   ],
   "source": [
    "# here we use .fit for traing \n",
    "model.fit(x_train_scaled,y_train)"
   ]
  },
  {
   "cell_type": "code",
   "execution_count": 25,
   "id": "2313d891",
   "metadata": {},
   "outputs": [
    {
     "data": {
      "text/plain": [
       "array([18.00824289, 11.42664083, 13.07204134, 16.36284238,  9.78124031,\n",
       "       13.07204134, 18.00824289])"
      ]
     },
     "execution_count": 25,
     "metadata": {},
     "output_type": "execute_result"
    }
   ],
   "source": [
    "# here we use .predict for testing\n",
    "model.predict(x_test_scaled)"
   ]
  },
  {
   "cell_type": "code",
   "execution_count": 26,
   "id": "7b690b8e",
   "metadata": {},
   "outputs": [
    {
     "data": {
      "text/plain": [
       "0.7921562197246624"
      ]
     },
     "execution_count": 26,
     "metadata": {},
     "output_type": "execute_result"
    }
   ],
   "source": [
    "model.score(x_test_scaled,y_test)"
   ]
  },
  {
   "cell_type": "markdown",
   "id": "5b6c8072",
   "metadata": {},
   "source": [
    "Min Max Scaler"
   ]
  },
  {
   "cell_type": "code",
   "execution_count": 27,
   "id": "ecccbbd5",
   "metadata": {},
   "outputs": [],
   "source": [
    "#Spliting data into train and test data \n",
    "x_train, x_test, y_train, y_test = train_test_split(x,y,random_state=3,test_size=0.30)"
   ]
  },
  {
   "cell_type": "code",
   "execution_count": 28,
   "id": "692139e0",
   "metadata": {},
   "outputs": [
    {
     "data": {
      "text/html": [
       "<div>\n",
       "<style scoped>\n",
       "    .dataframe tbody tr th:only-of-type {\n",
       "        vertical-align: middle;\n",
       "    }\n",
       "\n",
       "    .dataframe tbody tr th {\n",
       "        vertical-align: top;\n",
       "    }\n",
       "\n",
       "    .dataframe thead th {\n",
       "        text-align: right;\n",
       "    }\n",
       "</style>\n",
       "<table border=\"1\" class=\"dataframe\">\n",
       "  <thead>\n",
       "    <tr style=\"text-align: right;\">\n",
       "      <th></th>\n",
       "      <th>0</th>\n",
       "    </tr>\n",
       "  </thead>\n",
       "  <tbody>\n",
       "    <tr>\n",
       "      <th>0</th>\n",
       "      <td>1.000000</td>\n",
       "    </tr>\n",
       "    <tr>\n",
       "      <th>1</th>\n",
       "      <td>0.571429</td>\n",
       "    </tr>\n",
       "    <tr>\n",
       "      <th>2</th>\n",
       "      <td>0.571429</td>\n",
       "    </tr>\n",
       "    <tr>\n",
       "      <th>3</th>\n",
       "      <td>0.000000</td>\n",
       "    </tr>\n",
       "    <tr>\n",
       "      <th>4</th>\n",
       "      <td>0.428571</td>\n",
       "    </tr>\n",
       "  </tbody>\n",
       "</table>\n",
       "</div>"
      ],
      "text/plain": [
       "          0\n",
       "0  1.000000\n",
       "1  0.571429\n",
       "2  0.571429\n",
       "3  0.000000\n",
       "4  0.428571"
      ]
     },
     "execution_count": 28,
     "metadata": {},
     "output_type": "execute_result"
    }
   ],
   "source": [
    "#Min max scaler \n",
    "from sklearn.preprocessing import MinMaxScaler\n",
    "min_max = MinMaxScaler()\n",
    "x_train_minmax = pd.DataFrame(min_max.fit_transform(x_train))\n",
    "x_train_minmax.head()"
   ]
  },
  {
   "cell_type": "code",
   "execution_count": 29,
   "id": "9bed67f3",
   "metadata": {},
   "outputs": [
    {
     "data": {
      "text/plain": [
       "(14, 1)"
      ]
     },
     "execution_count": 29,
     "metadata": {},
     "output_type": "execute_result"
    }
   ],
   "source": [
    "x_train_minmax.shape"
   ]
  },
  {
   "cell_type": "code",
   "execution_count": 30,
   "id": "2a8ab519",
   "metadata": {},
   "outputs": [],
   "source": [
    "x_test_minmax = pd.DataFrame(min_max.transform(x_test))"
   ]
  },
  {
   "cell_type": "code",
   "execution_count": 31,
   "id": "168ebaf4",
   "metadata": {},
   "outputs": [
    {
     "data": {
      "text/html": [
       "<div>\n",
       "<style scoped>\n",
       "    .dataframe tbody tr th:only-of-type {\n",
       "        vertical-align: middle;\n",
       "    }\n",
       "\n",
       "    .dataframe tbody tr th {\n",
       "        vertical-align: top;\n",
       "    }\n",
       "\n",
       "    .dataframe thead th {\n",
       "        text-align: right;\n",
       "    }\n",
       "</style>\n",
       "<table border=\"1\" class=\"dataframe\">\n",
       "  <thead>\n",
       "    <tr style=\"text-align: right;\">\n",
       "      <th></th>\n",
       "      <th>0</th>\n",
       "    </tr>\n",
       "  </thead>\n",
       "  <tbody>\n",
       "    <tr>\n",
       "      <th>0</th>\n",
       "      <td>0.571429</td>\n",
       "    </tr>\n",
       "    <tr>\n",
       "      <th>1</th>\n",
       "      <td>0.000000</td>\n",
       "    </tr>\n",
       "    <tr>\n",
       "      <th>2</th>\n",
       "      <td>0.142857</td>\n",
       "    </tr>\n",
       "    <tr>\n",
       "      <th>3</th>\n",
       "      <td>0.428571</td>\n",
       "    </tr>\n",
       "    <tr>\n",
       "      <th>4</th>\n",
       "      <td>-0.142857</td>\n",
       "    </tr>\n",
       "  </tbody>\n",
       "</table>\n",
       "</div>"
      ],
      "text/plain": [
       "          0\n",
       "0  0.571429\n",
       "1  0.000000\n",
       "2  0.142857\n",
       "3  0.428571\n",
       "4 -0.142857"
      ]
     },
     "execution_count": 31,
     "metadata": {},
     "output_type": "execute_result"
    }
   ],
   "source": [
    "x_test_minmax.head()"
   ]
  },
  {
   "cell_type": "code",
   "execution_count": 32,
   "id": "412d9284",
   "metadata": {},
   "outputs": [
    {
     "data": {
      "text/plain": [
       "(7, 1)"
      ]
     },
     "execution_count": 32,
     "metadata": {},
     "output_type": "execute_result"
    }
   ],
   "source": [
    "x_test_minmax.shape"
   ]
  },
  {
   "cell_type": "code",
   "execution_count": 33,
   "id": "0804dff9",
   "metadata": {},
   "outputs": [],
   "source": [
    "model = LinearRegression()"
   ]
  },
  {
   "cell_type": "code",
   "execution_count": 34,
   "id": "c5423607",
   "metadata": {},
   "outputs": [
    {
     "data": {
      "text/plain": [
       "LinearRegression()"
      ]
     },
     "execution_count": 34,
     "metadata": {},
     "output_type": "execute_result"
    }
   ],
   "source": [
    "model.fit(x_train_minmax,y_train)"
   ]
  },
  {
   "cell_type": "code",
   "execution_count": 35,
   "id": "48c4b450",
   "metadata": {},
   "outputs": [
    {
     "data": {
      "text/plain": [
       "0.7921562197246623"
      ]
     },
     "execution_count": 35,
     "metadata": {},
     "output_type": "execute_result"
    }
   ],
   "source": [
    "model.score(x_test_minmax,y_test)"
   ]
  },
  {
   "cell_type": "markdown",
   "id": "b0b62e7a",
   "metadata": {},
   "source": [
    "Robust Scaler"
   ]
  },
  {
   "cell_type": "code",
   "execution_count": 36,
   "id": "a1d0e960",
   "metadata": {},
   "outputs": [],
   "source": [
    "#Spliting data into train and test data \n",
    "x_train, x_test, y_train, y_test = train_test_split(x,y,random_state=3,test_size=0.30)"
   ]
  },
  {
   "cell_type": "code",
   "execution_count": 37,
   "id": "349542a9",
   "metadata": {},
   "outputs": [
    {
     "data": {
      "text/html": [
       "<div>\n",
       "<style scoped>\n",
       "    .dataframe tbody tr th:only-of-type {\n",
       "        vertical-align: middle;\n",
       "    }\n",
       "\n",
       "    .dataframe tbody tr th {\n",
       "        vertical-align: top;\n",
       "    }\n",
       "\n",
       "    .dataframe thead th {\n",
       "        text-align: right;\n",
       "    }\n",
       "</style>\n",
       "<table border=\"1\" class=\"dataframe\">\n",
       "  <thead>\n",
       "    <tr style=\"text-align: right;\">\n",
       "      <th></th>\n",
       "      <th>0</th>\n",
       "    </tr>\n",
       "  </thead>\n",
       "  <tbody>\n",
       "    <tr>\n",
       "      <th>0</th>\n",
       "      <td>0.800000</td>\n",
       "    </tr>\n",
       "    <tr>\n",
       "      <th>1</th>\n",
       "      <td>0.000000</td>\n",
       "    </tr>\n",
       "    <tr>\n",
       "      <th>2</th>\n",
       "      <td>0.000000</td>\n",
       "    </tr>\n",
       "    <tr>\n",
       "      <th>3</th>\n",
       "      <td>-1.066667</td>\n",
       "    </tr>\n",
       "    <tr>\n",
       "      <th>4</th>\n",
       "      <td>-0.266667</td>\n",
       "    </tr>\n",
       "  </tbody>\n",
       "</table>\n",
       "</div>"
      ],
      "text/plain": [
       "          0\n",
       "0  0.800000\n",
       "1  0.000000\n",
       "2  0.000000\n",
       "3 -1.066667\n",
       "4 -0.266667"
      ]
     },
     "execution_count": 37,
     "metadata": {},
     "output_type": "execute_result"
    }
   ],
   "source": [
    "from sklearn.preprocessing import RobustScaler\n",
    "scaler = RobustScaler()\n",
    "x_train_robust_scaler = pd.DataFrame(scaler.fit_transform(x_train))\n",
    "x_train_robust_scaler.head()"
   ]
  },
  {
   "cell_type": "code",
   "execution_count": 38,
   "id": "c3d52fef",
   "metadata": {},
   "outputs": [
    {
     "data": {
      "text/html": [
       "<div>\n",
       "<style scoped>\n",
       "    .dataframe tbody tr th:only-of-type {\n",
       "        vertical-align: middle;\n",
       "    }\n",
       "\n",
       "    .dataframe tbody tr th {\n",
       "        vertical-align: top;\n",
       "    }\n",
       "\n",
       "    .dataframe thead th {\n",
       "        text-align: right;\n",
       "    }\n",
       "</style>\n",
       "<table border=\"1\" class=\"dataframe\">\n",
       "  <thead>\n",
       "    <tr style=\"text-align: right;\">\n",
       "      <th></th>\n",
       "      <th>0</th>\n",
       "    </tr>\n",
       "  </thead>\n",
       "  <tbody>\n",
       "    <tr>\n",
       "      <th>0</th>\n",
       "      <td>0.000000</td>\n",
       "    </tr>\n",
       "    <tr>\n",
       "      <th>1</th>\n",
       "      <td>-1.066667</td>\n",
       "    </tr>\n",
       "    <tr>\n",
       "      <th>2</th>\n",
       "      <td>-0.800000</td>\n",
       "    </tr>\n",
       "    <tr>\n",
       "      <th>3</th>\n",
       "      <td>-0.266667</td>\n",
       "    </tr>\n",
       "    <tr>\n",
       "      <th>4</th>\n",
       "      <td>-1.333333</td>\n",
       "    </tr>\n",
       "  </tbody>\n",
       "</table>\n",
       "</div>"
      ],
      "text/plain": [
       "          0\n",
       "0  0.000000\n",
       "1 -1.066667\n",
       "2 -0.800000\n",
       "3 -0.266667\n",
       "4 -1.333333"
      ]
     },
     "execution_count": 38,
     "metadata": {},
     "output_type": "execute_result"
    }
   ],
   "source": [
    "x_test_robust_scaler = pd.DataFrame(scaler.transform(x_test))\n",
    "x_test_robust_scaler.head()"
   ]
  },
  {
   "cell_type": "code",
   "execution_count": 39,
   "id": "7037d554",
   "metadata": {},
   "outputs": [],
   "source": [
    "model = LinearRegression()"
   ]
  },
  {
   "cell_type": "code",
   "execution_count": 40,
   "id": "9cdbef8e",
   "metadata": {},
   "outputs": [
    {
     "data": {
      "text/plain": [
       "LinearRegression()"
      ]
     },
     "execution_count": 40,
     "metadata": {},
     "output_type": "execute_result"
    }
   ],
   "source": [
    "model.fit(x_train_robust_scaler,y_train)"
   ]
  },
  {
   "cell_type": "code",
   "execution_count": 41,
   "id": "de9243c6",
   "metadata": {},
   "outputs": [
    {
     "data": {
      "text/plain": [
       "0.7921562197246623"
      ]
     },
     "execution_count": 41,
     "metadata": {},
     "output_type": "execute_result"
    }
   ],
   "source": [
    "model.score(x_test_robust_scaler,y_test)"
   ]
  },
  {
   "cell_type": "markdown",
   "id": "4817bb95",
   "metadata": {},
   "source": [
    "Guassian Transformation "
   ]
  },
  {
   "cell_type": "code",
   "execution_count": 42,
   "id": "974e5381",
   "metadata": {},
   "outputs": [],
   "source": [
    "import scipy.stats as stat\n",
    "import pylab"
   ]
  },
  {
   "cell_type": "code",
   "execution_count": 43,
   "id": "9f456aba",
   "metadata": {},
   "outputs": [],
   "source": [
    "# if you want to check whether feature is guassian or normal disbributed (#Q-Q plot)\n",
    "def plot_data(dt,feature):\n",
    "    plt.figure(figsize=(10,6))\n",
    "    plt.subplot(1,2,1)\n",
    "    dt[feature].hist()\n",
    "    plt.subplot(1,2,2)\n",
    "    stat.probplot(dt[feature],dist='norm',plot=pylab)\n",
    "    plt.show()"
   ]
  },
  {
   "cell_type": "code",
   "execution_count": 44,
   "id": "886e1e9e",
   "metadata": {},
   "outputs": [
    {
     "data": {
      "image/png": "[encoded data removed]",
      "text/plain": [
       "<Figure size 1000x600 with 2 Axes>"
      ]
     },
     "metadata": {},
     "output_type": "display_data"
    }
   ],
   "source": [
    "plot_data(dt,'Sorting Time')"
   ]
  },
  {
   "cell_type": "code",
   "execution_count": 45,
   "id": "5cac9585",
   "metadata": {},
   "outputs": [
    {
     "data": {
      "image/png": "[encoded data removed]",
      "text/plain": [
       "<Figure size 1000x600 with 2 Axes>"
      ]
     },
     "metadata": {},
     "output_type": "display_data"
    }
   ],
   "source": [
    "dt['Sorting Time_log']= np.log(dt['Sorting Time'])\n",
    "plot_data(dt,'Sorting Time_log')"
   ]
  },
  {
   "cell_type": "code",
   "execution_count": 46,
   "id": "b7dd3f4b",
   "metadata": {},
   "outputs": [
    {
     "data": {
      "image/png": "[encoded data removed]",
      "text/plain": [
       "<Figure size 1000x600 with 2 Axes>"
      ]
     },
     "metadata": {},
     "output_type": "display_data"
    }
   ],
   "source": [
    "dt['Sorting Time_reciprocal']=1/dt['Sorting Time']\n",
    "plot_data(dt,'Sorting Time_reciprocal')"
   ]
  },
  {
   "cell_type": "code",
   "execution_count": 47,
   "id": "a7cb8a36",
   "metadata": {},
   "outputs": [
    {
     "data": {
      "image/png": "[encoded data removed]",
      "text/plain": [
       "<Figure size 1000x600 with 2 Axes>"
      ]
     },
     "metadata": {},
     "output_type": "display_data"
    }
   ],
   "source": [
    "dt['Sorting Time_sqaure']= dt['Sorting Time']**(1/2)\n",
    "plot_data(dt,'Sorting Time_sqaure')"
   ]
  },
  {
   "cell_type": "code",
   "execution_count": 48,
   "id": "a7143e20",
   "metadata": {},
   "outputs": [
    {
     "data": {
      "image/png": "[encoded data removed]",
      "text/plain": [
       "<Figure size 1000x600 with 2 Axes>"
      ]
     },
     "metadata": {},
     "output_type": "display_data"
    }
   ],
   "source": [
    "dt['Sorting Time_exponential']=dt['Sorting Time']**(1/1.2)\n",
    "plot_data(dt,'Sorting Time_exponential')"
   ]
  },
  {
   "cell_type": "code",
   "execution_count": 49,
   "id": "f6737c27",
   "metadata": {},
   "outputs": [],
   "source": [
    "dt['Sorting Time_boxcox'],parameters=stat.boxcox(dt['Sorting Time'])"
   ]
  },
  {
   "cell_type": "code",
   "execution_count": 50,
   "id": "c652e664",
   "metadata": {},
   "outputs": [
    {
     "name": "stdout",
     "output_type": "stream",
     "text": [
      "0.6985665334706025\n"
     ]
    }
   ],
   "source": [
    "print(parameters)"
   ]
  },
  {
   "cell_type": "code",
   "execution_count": 51,
   "id": "e9d2bc07",
   "metadata": {},
   "outputs": [
    {
     "data": {
      "image/png": "[encoded data removed]",
      "text/plain": [
       "<Figure size 1000x600 with 2 Axes>"
      ]
     },
     "metadata": {},
     "output_type": "display_data"
    }
   ],
   "source": [
    "plot_data(dt,'Sorting Time_boxcox')"
   ]
  },
  {
   "cell_type": "code",
   "execution_count": 52,
   "id": "c1c776b0",
   "metadata": {},
   "outputs": [],
   "source": [
    "#Spliting data into train and test data \n",
    "x_train, x_test, y_train, y_test = train_test_split(x,y,random_state=3,test_size=0.30)"
   ]
  },
  {
   "cell_type": "code",
   "execution_count": 53,
   "id": "737d5dc4",
   "metadata": {},
   "outputs": [],
   "source": [
    "x_train_sr = x_train**(1/2)\n",
    "x_test_sr = x_test**(1/2)"
   ]
  },
  {
   "cell_type": "code",
   "execution_count": 54,
   "id": "66a472d5",
   "metadata": {},
   "outputs": [],
   "source": [
    "model = LinearRegression()"
   ]
  },
  {
   "cell_type": "code",
   "execution_count": 55,
   "id": "407f14ed",
   "metadata": {},
   "outputs": [
    {
     "data": {
      "text/plain": [
       "LinearRegression()"
      ]
     },
     "execution_count": 55,
     "metadata": {},
     "output_type": "execute_result"
    }
   ],
   "source": [
    "model.fit(x_train_sr,y_train)"
   ]
  },
  {
   "cell_type": "code",
   "execution_count": 56,
   "id": "1c05f101",
   "metadata": {},
   "outputs": [
    {
     "data": {
      "text/plain": [
       "0.833307064751672"
      ]
     },
     "execution_count": 56,
     "metadata": {},
     "output_type": "execute_result"
    }
   ],
   "source": [
    "model.score(x_test_sr,y_test) # Best Score with Square root transformation"
   ]
  },
  {
   "cell_type": "markdown",
   "id": "2222251d",
   "metadata": {},
   "source": [
    "BoxCox Transformation"
   ]
  },
  {
   "cell_type": "code",
   "execution_count": 57,
   "id": "86cfb1b3",
   "metadata": {},
   "outputs": [],
   "source": [
    "dt['Sorting Time_boxcox'],parameters=stat.boxcox(dt['Sorting Time'])"
   ]
  },
  {
   "cell_type": "code",
   "execution_count": 58,
   "id": "695323ef",
   "metadata": {},
   "outputs": [],
   "source": [
    "x = dt[['Sorting Time_boxcox']]"
   ]
  },
  {
   "cell_type": "code",
   "execution_count": 59,
   "id": "1bc15164",
   "metadata": {},
   "outputs": [],
   "source": [
    "y = dt['Delivery Time']"
   ]
  },
  {
   "cell_type": "code",
   "execution_count": 60,
   "id": "1746daf3",
   "metadata": {},
   "outputs": [],
   "source": [
    "#Spliting data into train and test data \n",
    "x_train, x_test, y_train, y_test = train_test_split(x,y,random_state=3,test_size=0.30)"
   ]
  },
  {
   "cell_type": "code",
   "execution_count": 61,
   "id": "03cd8644",
   "metadata": {},
   "outputs": [],
   "source": [
    "model = LinearRegression()"
   ]
  },
  {
   "cell_type": "code",
   "execution_count": 62,
   "id": "6c6d1907",
   "metadata": {},
   "outputs": [
    {
     "data": {
      "text/plain": [
       "LinearRegression()"
      ]
     },
     "execution_count": 62,
     "metadata": {},
     "output_type": "execute_result"
    }
   ],
   "source": [
    "model.fit(x_train,y_train)"
   ]
  },
  {
   "cell_type": "code",
   "execution_count": 63,
   "id": "de923393",
   "metadata": {},
   "outputs": [
    {
     "data": {
      "text/plain": [
       "0.8225748807789757"
      ]
     },
     "execution_count": 63,
     "metadata": {},
     "output_type": "execute_result"
    }
   ],
   "source": [
    "model.score(x_test,y_test)"
   ]
  },
  {
   "cell_type": "code",
   "execution_count": null,
   "id": "7c9d6ef1",
   "metadata": {},
   "outputs": [],
   "source": []
  }
 ],
 "metadata": {
  "kernelspec": {
   "display_name": "Python 3 (ipykernel)",
   "language": "python",
   "name": "python3"
  },
  "language_info": {
   "codemirror_mode": {
    "name": "ipython",
    "version": 3
   },
   "file_extension": ".py",
   "mimetype": "text/x-python",
   "name": "python",
   "nbconvert_exporter": "python",
   "pygments_lexer": "ipython3",
   "version": "3.9.13"
  }
 },
 "nbformat": 4,
 "nbformat_minor": 5
}
